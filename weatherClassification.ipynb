version https://git-lfs.github.com/spec/v1
oid sha256:27347080bc226f4a27b608da2f1f0b54491a72e4ba5a337462da54affa0a1f99
size 1440048
