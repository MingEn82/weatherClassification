version https://git-lfs.github.com/spec/v1
oid sha256:39a70e77314ba1f5679f0147a80f7537b6de0db4d0b1f67ede0ff6992837df9a
size 1199601
